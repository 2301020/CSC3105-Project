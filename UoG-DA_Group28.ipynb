{
    "cells": [
        {
            "cell_type": "markdown",
            "metadata": {
                "id": "view-in-github",
                "colab_type": "text",
                "cell_id": "97bec0c6e8f345e79fb189cd30fe86c8",
                "deepnote_cell_type": "markdown"
            },
            "source": "<a href=\"https://colab.research.google.com/github/2301020/CSC3105-Project/blob/main/UoG-DA_Group28.ipynb\" target=\"_parent\"><img src=\"https://colab.research.google.com/assets/colab-badge.svg\" alt=\"Open In Colab\"/></a>",
            "block_group": "ccf28bba08494da4b0cbb999a3dabe0b"
        },
        {
            "cell_type": "markdown",
            "metadata": {
                "id": "Mxa3tmd0qUbU",
                "cell_id": "bcf8b2d86575443ca89a60a419796a8d",
                "deepnote_cell_type": "markdown"
            },
            "source": "# UoG-DA_Group28 Jupyter Notebook",
            "block_group": "f7a9e59d0df94a26bce5db8e8e7f8e83"
        },
        {
            "cell_type": "markdown",
            "metadata": {
                "id": "KoTv1anyqUbX",
                "cell_id": "b3e7cc31ce184f54bcbd52066da8bb17",
                "deepnote_cell_type": "markdown"
            },
            "source": "## <u> Data Pre-Processing </u>",
            "block_group": "75351a38ec0a4d3691dadb1a37544daa"
        },
        {
            "cell_type": "code",
            "metadata": {
                "id": "xRGA8j1HqUbX",
                "colab": {
                    "height": 399,
                    "base_uri": "https://localhost:8080/"
                },
                "outputId": "385dd3ac-3389-406f-95bd-eb60673d2d36",
                "source_hash": "181141b7",
                "execution_start": 1740650396706,
                "execution_millis": 1158,
                "execution_context_id": "59a302cd-39e1-4992-995b-71b676a4dd36",
                "cell_id": "167619186fa54a42b619e2866fb4b1a6",
                "deepnote_cell_type": "code"
            },
            "source": "import pandas as pd\nimport numpy as np\nimport matplotlib.pyplot as plt\nimport os\n\n# Method to extract data from all 7 files to a Pandas DataFrame\ndef import_from_files_single_dataframe(rootdir):\n    file_list =[]\n    for dirpath, dirnames, filenames in os.walk(rootdir):\n        for file in filenames:\n            filename = os.path.join(dirpath, file)\n            print(filename)\n            file_list.append(filename)\n            # read data from file\n\n    df = pd.concat((pd.read_csv(f) for f in file_list), ignore_index=True)\n\n    return df",
            "block_group": "d8b6a8d96d774c1eaab6c518b76eac13",
            "execution_count": 1,
            "outputs": [],
            "outputs_reference": null,
            "content_dependencies": null
        },
        {
            "cell_type": "code",
            "metadata": {
                "id": "GK7MvXqzqUbY",
                "source_hash": "18547a89",
                "execution_start": 1740650402596,
                "execution_millis": 8791,
                "execution_context_id": "59a302cd-39e1-4992-995b-71b676a4dd36",
                "cell_id": "f8a59e8e38964765a653e2a34416592a",
                "deepnote_cell_type": "code"
            },
            "source": "# Import raw data from folder with dataset\nprint(\"Importing dataset to Pandas dataframe\")\nprint(\"-------------------------------\")\ndata = import_from_files_single_dataframe(\"./UWB_LOS_NLOS_Data_Set/dataset/\")\n\nprint(\"\\nDataset:\")\nprint(\"-------------------------------\")\nprint(data)",
            "block_group": "955a1f2d2c524598bdd61536650489ad",
            "execution_count": 3,
            "outputs": [
                {
                    "name": "stdout",
                    "text": "Importing dataset to Pandas dataframe\n-------------------------------\n./UWB_LOS_NLOS_Data_Set/dataset/uwb_dataset_part1.csv\n./UWB_LOS_NLOS_Data_Set/dataset/uwb_dataset_part2.csv\n./UWB_LOS_NLOS_Data_Set/dataset/uwb_dataset_part3.csv\n./UWB_LOS_NLOS_Data_Set/dataset/uwb_dataset_part4.csv\n./UWB_LOS_NLOS_Data_Set/dataset/uwb_dataset_part5.csv\n./UWB_LOS_NLOS_Data_Set/dataset/uwb_dataset_part6.csv\n./UWB_LOS_NLOS_Data_Set/dataset/uwb_dataset_part7.csv\n\nDataset:\n-------------------------------\n       NLOS  RANGE  FP_IDX  FP_AMP1  FP_AMP2  FP_AMP3  STDEV_NOISE  CIR_PWR  \\\n0       0.0   3.90   745.0  18712.0  10250.0  11576.0         64.0  11855.0   \n1       0.0   0.66   749.0  11239.0   6313.0   4712.0         64.0  18968.0   \n2       1.0   7.86   746.0   4355.0   5240.0   3478.0         60.0  14699.0   \n3       1.0   3.48   750.0   8502.0   8416.0   5890.0         76.0   8748.0   \n4       0.0   1.19   746.0  17845.0  18095.0  12058.0         68.0  11380.0   \n...     ...    ...     ...      ...      ...      ...          ...      ...   \n41995   0.0   2.43   745.0  12960.0  17703.0  14948.0         96.0   9987.0   \n41996   0.0   1.39   745.0   2235.0  15089.0   8796.0         76.0  12559.0   \n41997   1.0   5.48   747.0   7115.0   6262.0   4584.0         72.0   1435.0   \n41998   1.0   3.40   745.0   6662.0   7683.0   5600.0         72.0   1491.0   \n41999   0.0   2.43   747.0   2621.0  10276.0   6284.0         56.0   9116.0   \n\n       MAX_NOISE  RXPACC  ...  CIR1006  CIR1007  CIR1008  CIR1009  CIR1010  \\\n0          967.0   611.0  ...    279.0    458.0    183.0    158.0    198.0   \n1         1133.0   447.0  ...    144.0    334.0    290.0    228.0    187.0   \n2          894.0   723.0  ...     32.0    373.0    224.0    174.0    124.0   \n3         1127.0  1024.0  ...    252.0    173.0    198.0    160.0    434.0   \n4         1744.0   276.0  ...    154.0    209.0    242.0    296.0     87.0   \n...          ...     ...  ...      ...      ...      ...      ...      ...   \n41995     2379.0   276.0  ...    180.0    156.0    322.0    378.0    115.0   \n41996     1810.0   281.0  ...     43.0    433.0    517.0    518.0    287.0   \n41997     1092.0  1024.0  ...    394.0    475.0    262.0    468.0    247.0   \n41998     1077.0  1024.0  ...    397.0    170.0    231.0    231.0    202.0   \n41999     1224.0   342.0  ...    121.0    200.0    263.0    166.0    234.0   \n\n       CIR1011  CIR1012  CIR1013  CIR1014  CIR1015  \n0         87.0    296.0    505.0    307.0      0.0  \n1        213.0    202.0     89.0    103.0      0.0  \n2        329.0    207.0     96.0    218.0      0.0  \n3        397.0    290.0    155.0    342.0    256.0  \n4        178.0    314.0    247.0    292.0    256.0  \n...        ...      ...      ...      ...      ...  \n41995    296.0    452.0    138.0    123.0      0.0  \n41996    169.0    437.0     59.0    296.0      0.0  \n41997    192.0    395.0    335.0    284.0    256.0  \n41998    253.0    128.0    311.0    290.0      0.0  \n41999     76.0    150.0    241.0    252.0    256.0  \n\n[42000 rows x 1031 columns]\n",
                    "output_type": "stream"
                }
            ],
            "outputs_reference": "s3:deepnote-cell-outputs-production/701aa29f-7b0c-4545-8f11-d135c4e9209d",
            "content_dependencies": null
        },
        {
            "cell_type": "code",
            "metadata": {
                "id": "tQ_Hfzo1qUbZ",
                "cell_id": "21cf90fd5bb94f119f58115aa70cb520",
                "deepnote_cell_type": "code"
            },
            "source": "# Check if where are any nulls or missing values in dataset\n\nprint(\"\\nAre Nulls detected in dataframe: \", data.isnull().values.any())\n\nprint(\"\\nNumber of Nulls detected in dataframe by attribute:\")\nprint(\"-------------------------------\")\nprint(data.isnull().sum())",
            "block_group": "37155ac01eaf4cff97f4673e32717b29",
            "execution_count": null,
            "outputs": [],
            "outputs_reference": null,
            "content_dependencies": null
        },
        {
            "cell_type": "code",
            "metadata": {
                "id": "WJSm0raKqUba",
                "cell_id": "e16edc0a0a684ddd925814382f60c3e9",
                "deepnote_cell_type": "code"
            },
            "source": "import sklearn\nfrom sklearn.decomposition import PCA\n\npca = PCA()\npca.fit(data)\nprojected = pca.transform(data)\nprojected_1 = pd.DataFrame(projected,index=range(1,data.shape[0]+1))\n\nprojected_1",
            "block_group": "8f2b81966f904eb8830b1910cb7e11c8",
            "execution_count": null,
            "outputs": [],
            "outputs_reference": null,
            "content_dependencies": null
        },
        {
            "cell_type": "code",
            "metadata": {
                "id": "FZDsJpfeqUba",
                "cell_id": "b3d6c85dc0e34e6689e82f24e22d6050",
                "deepnote_cell_type": "code"
            },
            "source": "# calculate cumulative sum of explained variances\ntot = sum(pca.explained_variance_)\nprint(pca.explained_variance_)\nprint(tot)\nvar_exp = [(i/tot ) for i in sorted(pca.explained_variance_, reverse=True)]\ncum_var_exp = np.cumsum(var_exp)\npc_count = len(var_exp)\nprint(pc_count)\n# plot explained variances\nplt.bar(range(1,pc_count+1), var_exp, alpha=0.5,\n        align='center', label='individual explained variance')\nplt.step(range(1,pc_count+1), cum_var_exp, where='mid',\n         label='cumulative explained variance')\nplt.ylabel('Explained variance ratio')\nplt.xlabel('Principal component index')\nplt.legend(loc='best')\nplt.show()",
            "block_group": "50bcdcf99f254d35ad310594fd879f6e",
            "execution_count": null,
            "outputs": [],
            "outputs_reference": null,
            "content_dependencies": null
        },
        {
            "cell_type": "code",
            "metadata": {
                "id": "8JyJct6wqUbb",
                "cell_id": "717c28546226422ca73bd9d769790b0e",
                "deepnote_cell_type": "code"
            },
            "source": "plt.plot(np.cumsum(pca.explained_variance_ratio_))\nplt.xlabel('number of components')\nplt.ylabel('cumulative explained variance');",
            "block_group": "19999c0bb64a4c3bb697f98142cf9f9c",
            "execution_count": null,
            "outputs": [],
            "outputs_reference": null,
            "content_dependencies": null
        },
        {
            "cell_type": "markdown",
            "metadata": {
                "id": "UBkYdfm7qUbc",
                "cell_id": "d1cb27a735f746e4a2b23200a30f0889",
                "deepnote_cell_type": "markdown"
            },
            "source": "## <u> Data Mining </u>",
            "block_group": "630aadf75c6a494ca82ef95a1cf312f1"
        },
        {
            "cell_type": "code",
            "metadata": {
                "id": "vUIXhB5DqUbc",
                "cell_id": "ad53e803ba254cecad5fc6b320c624a9",
                "deepnote_cell_type": "code"
            },
            "source": "\"YES\"",
            "block_group": "5fdf1f7d83c84d95a6475b695b4fe0ee",
            "execution_count": null,
            "outputs": [],
            "outputs_reference": null,
            "content_dependencies": null
        },
        {
            "cell_type": "markdown",
            "metadata": {
                "id": "7xgiZFVbqUbd",
                "cell_id": "da71eee7959d43a98dad1948316a14a2",
                "deepnote_cell_type": "markdown"
            },
            "source": "## <u> Data Post-Processing </u>",
            "block_group": "6c86661d8cb44f4780b4d690e87d5b4d"
        },
        {
            "cell_type": "code",
            "metadata": {
                "id": "TKW2WmujqUbd",
                "cell_id": "7a82d0d46c91463daabb480ae302ef58",
                "deepnote_cell_type": "code"
            },
            "source": "",
            "block_group": "f61e5c22bf4b4c1e91a08612c19dc5b9",
            "execution_count": null,
            "outputs": [],
            "outputs_reference": null,
            "content_dependencies": null
        },
        {
            "cell_type": "markdown",
            "source": "<a style='text-decoration:none;line-height:16px;display:flex;color:#5B5B62;padding:10px;justify-content:end;' href='https://deepnote.com?utm_source=created-in-deepnote-cell&projectId=ee77a9d2-e617-4197-bdd4-20a2b8553e12' target=\"_blank\">\n<img alt='Created in deepnote.com' style='display:inline;max-height:16px;margin:0px;margin-right:7.5px;' src='data:image/svg+xml;base64,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' > </img>\nCreated in <span style='font-weight:600;margin-left:4px;'>Deepnote</span></a>",
            "metadata": {
                "created_in_deepnote_cell": true,
                "deepnote_cell_type": "markdown"
            }
        }
    ],
    "nbformat": 4,
    "nbformat_minor": 0,
    "metadata": {
        "deepnote_notebook_id": "5e845147d03e46dc87022f6d2e802d1d"
    }
}